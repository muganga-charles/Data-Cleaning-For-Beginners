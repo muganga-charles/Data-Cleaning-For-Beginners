{
 "cells": [
  {
   "cell_type": "code",
   "execution_count": 2,
   "metadata": {},
   "outputs": [],
   "source": [
    "import pandas as pd\n",
    "import seaborn as sea\n",
    "import numpy as np\n",
    "import matplotlib.pyplot as plt  \n",
    "\n",
    "%matplotlib  inline "
   ]
  },
  {
   "cell_type": "code",
   "execution_count": 3,
   "metadata": {},
   "outputs": [],
   "source": [
    "df = pd.read_csv('pricingOfDiamonds.csv') # importing contents of a CSV to a data frame (df)"
   ]
  },
  {
   "cell_type": "code",
   "execution_count": 5,
   "metadata": {},
   "outputs": [],
   "source": [
    "# Show how you would transform the dataset to exclude missing data in your analysis. "
   ]
  },
  {
   "cell_type": "code",
   "execution_count": 6,
   "metadata": {},
   "outputs": [
    {
     "data": {
      "text/html": [
       "<div>\n",
       "<style scoped>\n",
       "    .dataframe tbody tr th:only-of-type {\n",
       "        vertical-align: middle;\n",
       "    }\n",
       "\n",
       "    .dataframe tbody tr th {\n",
       "        vertical-align: top;\n",
       "    }\n",
       "\n",
       "    .dataframe thead th {\n",
       "        text-align: right;\n",
       "    }\n",
       "</style>\n",
       "<table border=\"1\" class=\"dataframe\">\n",
       "  <thead>\n",
       "    <tr style=\"text-align: right;\">\n",
       "      <th></th>\n",
       "      <th>ID</th>\n",
       "      <th>carat</th>\n",
       "      <th>cut</th>\n",
       "      <th>colour</th>\n",
       "      <th>clarity</th>\n",
       "      <th>depth</th>\n",
       "      <th>price</th>\n",
       "      <th>x</th>\n",
       "      <th>y</th>\n",
       "      <th>P</th>\n",
       "      <th>PC</th>\n",
       "    </tr>\n",
       "  </thead>\n",
       "  <tbody>\n",
       "    <tr>\n",
       "      <th>0</th>\n",
       "      <td>1</td>\n",
       "      <td>0.23</td>\n",
       "      <td>Ideal</td>\n",
       "      <td>E</td>\n",
       "      <td>SI2</td>\n",
       "      <td>61.5</td>\n",
       "      <td>326</td>\n",
       "      <td>1417.391304</td>\n",
       "      <td>5.300813</td>\n",
       "      <td>Negative</td>\n",
       "      <td>Negative</td>\n",
       "    </tr>\n",
       "    <tr>\n",
       "      <th>1</th>\n",
       "      <td>2</td>\n",
       "      <td>0.21</td>\n",
       "      <td>Premium</td>\n",
       "      <td>E</td>\n",
       "      <td>SI1</td>\n",
       "      <td>59.8</td>\n",
       "      <td>326</td>\n",
       "      <td>1552.380952</td>\n",
       "      <td>5.451505</td>\n",
       "      <td>Positive</td>\n",
       "      <td>Negative</td>\n",
       "    </tr>\n",
       "  </tbody>\n",
       "</table>\n",
       "</div>"
      ],
      "text/plain": [
       "   ID  carat      cut colour clarity  depth  price            x         y  \\\n",
       "0   1   0.23    Ideal      E     SI2   61.5    326  1417.391304  5.300813   \n",
       "1   2   0.21  Premium      E     SI1   59.8    326  1552.380952  5.451505   \n",
       "\n",
       "          P        PC  \n",
       "0  Negative  Negative  \n",
       "1  Positive  Negative  "
      ]
     },
     "execution_count": 6,
     "metadata": {},
     "output_type": "execute_result"
    }
   ],
   "source": [
    "df.head(2)\n"
   ]
  },
  {
   "cell_type": "code",
   "execution_count": 7,
   "metadata": {},
   "outputs": [],
   "source": [
    "# Data cleaning."
   ]
  },
  {
   "cell_type": "code",
   "execution_count": 8,
   "metadata": {},
   "outputs": [
    {
     "name": "stdout",
     "output_type": "stream",
     "text": [
      "<class 'pandas.core.frame.DataFrame'>\n",
      "RangeIndex: 53940 entries, 0 to 53939\n",
      "Data columns (total 11 columns):\n",
      " #   Column   Non-Null Count  Dtype  \n",
      "---  ------   --------------  -----  \n",
      " 0   ID       53940 non-null  int64  \n",
      " 1   carat    53940 non-null  float64\n",
      " 2   cut      53940 non-null  object \n",
      " 3   colour   53940 non-null  object \n",
      " 4   clarity  53940 non-null  object \n",
      " 5   depth    53940 non-null  float64\n",
      " 6   price    53940 non-null  int64  \n",
      " 7   x        53940 non-null  float64\n",
      " 8   y        53940 non-null  float64\n",
      " 9   P        53930 non-null  object \n",
      " 10  PC       53930 non-null  object \n",
      "dtypes: float64(4), int64(2), object(5)\n",
      "memory usage: 4.5+ MB\n"
     ]
    }
   ],
   "source": [
    "df.info()"
   ]
  },
  {
   "cell_type": "code",
   "execution_count": 9,
   "metadata": {},
   "outputs": [
    {
     "data": {
      "text/plain": [
       "ID          0\n",
       "carat       0\n",
       "cut         0\n",
       "colour      0\n",
       "clarity     0\n",
       "depth       0\n",
       "price       0\n",
       "x           0\n",
       "y           0\n",
       "P          10\n",
       "PC         10\n",
       "dtype: int64"
      ]
     },
     "execution_count": 9,
     "metadata": {},
     "output_type": "execute_result"
    }
   ],
   "source": [
    "# Scanning for missing data points\n",
    "df.isnull().sum()"
   ]
  },
  {
   "cell_type": "code",
   "execution_count": 10,
   "metadata": {},
   "outputs": [
    {
     "data": {
      "text/plain": [
       "0        Negative\n",
       "1        Positive\n",
       "2         Positve\n",
       "3              NR\n",
       "4              NR\n",
       "           ...   \n",
       "53935          NR\n",
       "53936          SP\n",
       "53937          SN\n",
       "53938          SN\n",
       "53939    Negative\n",
       "Name: P, Length: 53940, dtype: object"
      ]
     },
     "execution_count": 10,
     "metadata": {},
     "output_type": "execute_result"
    }
   ],
   "source": [
    "df.P"
   ]
  },
  {
   "cell_type": "code",
   "execution_count": 11,
   "metadata": {},
   "outputs": [
    {
     "data": {
      "text/plain": [
       "0        Negative\n",
       "1        Negative\n",
       "2        Negative\n",
       "3        Negative\n",
       "4        Negative\n",
       "           ...   \n",
       "53935          SN\n",
       "53936          SN\n",
       "53937          SN\n",
       "53938          SP\n",
       "53939          SP\n",
       "Name: PC, Length: 53940, dtype: object"
      ]
     },
     "execution_count": 11,
     "metadata": {},
     "output_type": "execute_result"
    }
   ],
   "source": [
    "df.PC"
   ]
  },
  {
   "cell_type": "code",
   "execution_count": 12,
   "metadata": {},
   "outputs": [
    {
     "name": "stdout",
     "output_type": "stream",
     "text": [
      "['Negative' 'Positive' 'Positve' 'NR' 'SP' 'SN' nan]\n"
     ]
    }
   ],
   "source": [
    "unique_values = df['P'].unique()\n",
    "print(unique_values)"
   ]
  },
  {
   "cell_type": "code",
   "execution_count": 13,
   "metadata": {},
   "outputs": [
    {
     "name": "stdout",
     "output_type": "stream",
     "text": [
      "Mode of column 'P': Negative\n"
     ]
    }
   ],
   "source": [
    "mode_P = df['P'].mode()[0]\n",
    "print(\"Mode of column 'P':\", mode_P)"
   ]
  },
  {
   "cell_type": "code",
   "execution_count": 15,
   "metadata": {},
   "outputs": [],
   "source": [
    "# Replace all the missing data points with the mode(Categoric data) of the column P\n",
    "\n",
    "df['P']=df['P'].fillna(mode_P)"
   ]
  },
  {
   "cell_type": "code",
   "execution_count": 16,
   "metadata": {},
   "outputs": [
    {
     "data": {
      "text/plain": [
       "ID          0\n",
       "carat       0\n",
       "cut         0\n",
       "colour      0\n",
       "clarity     0\n",
       "depth       0\n",
       "price       0\n",
       "x           0\n",
       "y           0\n",
       "P           0\n",
       "PC         10\n",
       "dtype: int64"
      ]
     },
     "execution_count": 16,
     "metadata": {},
     "output_type": "execute_result"
    }
   ],
   "source": [
    "df.isnull().sum()"
   ]
  },
  {
   "cell_type": "code",
   "execution_count": 19,
   "metadata": {},
   "outputs": [
    {
     "name": "stdout",
     "output_type": "stream",
     "text": [
      "['Negative' 'NR' 'Positive' 'Positve' 'SN' 'SP' nan]\n"
     ]
    }
   ],
   "source": [
    "# Evaluate column PC\n",
    "unique_values = df['PC'].unique()\n",
    "print(unique_values)"
   ]
  },
  {
   "cell_type": "code",
   "execution_count": 20,
   "metadata": {},
   "outputs": [
    {
     "name": "stdout",
     "output_type": "stream",
     "text": [
      "Mode of column 'PC': Negative\n"
     ]
    }
   ],
   "source": [
    "mode_PC = df['PC'].mode()[0]\n",
    "print(\"Mode of column 'PC':\", mode_PC)"
   ]
  },
  {
   "cell_type": "code",
   "execution_count": 21,
   "metadata": {},
   "outputs": [],
   "source": [
    "# Replace all the missing data points with the mode(Categoric data) of the column PC\n",
    "\n",
    "df['PC']=df['PC'].fillna(mode_PC)"
   ]
  },
  {
   "cell_type": "code",
   "execution_count": 22,
   "metadata": {},
   "outputs": [
    {
     "data": {
      "text/plain": [
       "ID         0\n",
       "carat      0\n",
       "cut        0\n",
       "colour     0\n",
       "clarity    0\n",
       "depth      0\n",
       "price      0\n",
       "x          0\n",
       "y          0\n",
       "P          0\n",
       "PC         0\n",
       "dtype: int64"
      ]
     },
     "execution_count": 22,
     "metadata": {},
     "output_type": "execute_result"
    }
   ],
   "source": [
    "df.isnull().sum()"
   ]
  },
  {
   "cell_type": "code",
   "execution_count": 23,
   "metadata": {},
   "outputs": [],
   "source": [
    "# Conclusion.\n",
    "# Using data cleaning techniques, \"Replacing missing data with mode\". Simply because the data\n",
    "# missing is categoric data.\n",
    "# No missing data."
   ]
  },
  {
   "cell_type": "code",
   "execution_count": 3,
   "metadata": {},
   "outputs": [],
   "source": []
  },
  {
   "cell_type": "code",
   "execution_count": null,
   "metadata": {},
   "outputs": [],
   "source": []
  }
 ],
 "metadata": {
  "kernelspec": {
   "display_name": "Python 3",
   "language": "python",
   "name": "python3"
  },
  "language_info": {
   "codemirror_mode": {
    "name": "ipython",
    "version": 3
   },
   "file_extension": ".py",
   "mimetype": "text/x-python",
   "name": "python",
   "nbconvert_exporter": "python",
   "pygments_lexer": "ipython3",
   "version": "3.8.5"
  }
 },
 "nbformat": 4,
 "nbformat_minor": 4
}
